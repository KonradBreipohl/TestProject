{
 "cells": [
  {
   "cell_type": "code",
   "execution_count": null,
   "id": "9d258419",
   "metadata": {},
   "outputs": [],
   "source": [
    "!./install_irkernel.sh"
   ]
  }
 ],
 "metadata": {
  "kernelspec": {
   "display_name": "Python 3 (ipykernel)",
   "language": "python",
   "name": "python3"
  }
 },
 "nbformat": 4,
 "nbformat_minor": 5
}
