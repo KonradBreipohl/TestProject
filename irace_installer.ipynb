{
 "cells": [
  {
   "cell_type": "code",
   "execution_count": null,
   "id": "c83ccf9d",
   "metadata": {
    "vscode": {
     "languageId": "r"
    }
   },
   "outputs": [],
   "source": [
    "# Create a local directory for R packages\n",
    "dir.create(\"r-packages\", showWarnings = FALSE)\n",
    "\n",
    "# Install the irace package to the local directory\n",
    "install.packages('irace', repos='https://cloud.r-project.org', lib='./r-packages')\n",
    ".libPaths(c('./r-packages', .libPaths()))\n"
   ]
  }
 ],
 "metadata": {
  "kernelspec": {
   "display_name": "R",
   "language": "R",
   "name": "ir"
  },
  "language_info": {
   "codemirror_mode": "r",
   "file_extension": ".r",
   "mimetype": "text/x-r-source",
   "name": "R",
   "pygments_lexer": "r",
   "version": "4.3.1"
  }
 },
 "nbformat": 4,
 "nbformat_minor": 5
}
